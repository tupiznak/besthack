{
 "cells": [
  {
   "cell_type": "code",
   "execution_count": 1,
   "metadata": {},
   "outputs": [],
   "source": [
    "import pandas as pd"
   ]
  },
  {
   "cell_type": "code",
   "execution_count": 2,
   "metadata": {},
   "outputs": [
    {
     "name": "stderr",
     "output_type": "stream",
     "text": [
      "/usr/lib/python3.6/site-packages/IPython/core/interactiveshell.py:2728: DtypeWarning: Columns (10,19,137,138,250) have mixed types. Specify dtype option on import or set low_memory=False.\n",
      "  interactivity=interactivity, compiler=compiler, result=result)\n"
     ]
    }
   ],
   "source": [
    "country_db = pd.read_csv('csvdir/Country-Code-Mapping.csv')\n",
    "main_db = pd.read_csv('csvdir/HackerRank-Developer-Survey-2018-Numeric.csv')\n",
    "question_db = pd.read_csv('csvdir/HackerRank-Developer-Survey-2018-Numeric-Mapping.csv')\n",
    "codebook_db = pd.read_csv('csvdir/HackerRank-Developer-Survey-2018-Codebook.csv')"
   ]
  },
  {
   "cell_type": "code",
   "execution_count": 3,
   "metadata": {},
   "outputs": [
    {
     "name": "stdout",
     "output_type": "stream",
     "text": [
      "                    Count\n",
      "CountryName              \n",
      "Russian Federation    378\n"
     ]
    }
   ],
   "source": [
    "#merge two tables by 'CountryNumeric2'\n",
    "res = pd.merge(main_db,country_db,how='left',left_on=['CountryNumeric2'], right_on=['Value'])\n",
    "\n",
    "#rename column\n",
    "res = res.rename(columns={'Label':'CountryName'})\n",
    "\n",
    "#convert NaN to -1\n",
    "res['CountryName'] = res['CountryName'].fillna(-1)\n",
    "\n",
    "#group by 'CountryName'\n",
    "countries = res[['RespondentID','CountryName']].groupby('CountryName').count()\n",
    "countries = countries.rename(columns={'RespondentID':'Count'})\n",
    "\n",
    "#get count\n",
    "russian_count = countries.filter(like='ussia',axis=0)\n",
    "print(russian_count)\n",
    "russian_count = russian_count.iat[0,0]"
   ]
  },
  {
   "cell_type": "code",
   "execution_count": 4,
   "metadata": {},
   "outputs": [
    {
     "name": "stdout",
     "output_type": "stream",
     "text": [
      "12.962962962962962\n"
     ]
    }
   ],
   "source": [
    "#slice by 'CountryName'\n",
    "russian_developers = res[res['CountryName']=='Russian Federation']\n",
    "\n",
    "#group by question about students\n",
    "russian_students = russian_developers[['RespondentID','q8Student']].groupby('q8Student').count()\n",
    "\n",
    "#slice by isStudent==True\n",
    "russian_students = russian_students.filter(items=[1],axis=0)\n",
    "russian_students = russian_students.iat[0,0]\n",
    "\n",
    "#get percent\n",
    "russian_students_percent = russian_students/russian_count\n",
    "print(russian_students_percent*100)"
   ]
  },
  {
   "cell_type": "code",
   "execution_count": 5,
   "metadata": {},
   "outputs": [
    {
     "name": "stdout",
     "output_type": "stream",
     "text": [
      "1.9330410522120367 4.11319250697489 3.2363491430848943\n"
     ]
    }
   ],
   "source": [
    "#convert 'q9CurrentRole' from string to numeric\n",
    "res = main_db\n",
    "res[['q9CurrentRole']] = pd.to_numeric(res['q9CurrentRole'], errors='coerce')\n",
    "\n",
    "#slice question_db by question=='q9CurrentRole'\n",
    "res1 = question_db[question_db['Data Field'] == 'q9CurrentRole']\n",
    "\n",
    "#merge it\n",
    "res = pd.merge(res,res1,how='left',left_on=['q9CurrentRole'], right_on=['Value'])\n",
    "\n",
    "#rename column\n",
    "res = res.rename(columns={'Label':'RoleName'})\n",
    "\n",
    "#group by 'RoleName'\n",
    "res = res[['RespondentID','RoleName']].groupby('RoleName').count()\n",
    "res = res.rename(columns={'RespondentID':'Count'})\n",
    "\n",
    "#get counts\n",
    "web_count = res.filter(like='Web', axis=0).iat[0,0]\n",
    "data_count = res.filter(like='Data Scientist', axis=0).iat[0,0]\n",
    "mobile_count = res.filter(like='Mobile', axis=0).iat[0,0]\n",
    "all_count = main_db.shape[0]\n",
    "\n",
    "#get percents\n",
    "web_p=web_count/all_count\n",
    "data_p=data_count/all_count\n",
    "mobile_p=mobile_count/all_count\n",
    "\n",
    "print(data_p*100, web_p*100, mobile_p*100)"
   ]
  },
  {
   "cell_type": "code",
   "execution_count": 6,
   "metadata": {},
   "outputs": [
    {
     "data": {
      "text/html": [
       "<div>\n",
       "<style scoped>\n",
       "    .dataframe tbody tr th:only-of-type {\n",
       "        vertical-align: middle;\n",
       "    }\n",
       "\n",
       "    .dataframe tbody tr th {\n",
       "        vertical-align: top;\n",
       "    }\n",
       "\n",
       "    .dataframe thead th {\n",
       "        text-align: right;\n",
       "    }\n",
       "</style>\n",
       "<table border=\"1\" class=\"dataframe\">\n",
       "  <thead>\n",
       "    <tr style=\"text-align: right;\">\n",
       "      <th></th>\n",
       "      <th>Data Field</th>\n",
       "      <th>Survey Question</th>\n",
       "      <th>Notes</th>\n",
       "    </tr>\n",
       "  </thead>\n",
       "  <tbody>\n",
       "    <tr>\n",
       "      <th>17</th>\n",
       "      <td>q7Level1</td>\n",
       "      <td>Success! You completed Level 1 of 4.  To unloc...</td>\n",
       "      <td>right answer: 1 or C</td>\n",
       "    </tr>\n",
       "    <tr>\n",
       "      <th>50</th>\n",
       "      <td>q15Level2</td>\n",
       "      <td>You completed Level 2 of 4! To unlock the next...</td>\n",
       "      <td>right answer: 1 or 'prints  \"Hello World!\" n t...</td>\n",
       "    </tr>\n",
       "    <tr>\n",
       "      <th>243</th>\n",
       "      <td>q31Level3</td>\n",
       "      <td>Woo hoo... you completed Level 3 of 4! To unlo...</td>\n",
       "      <td>right answer: 1 or num%2 == 0</td>\n",
       "    </tr>\n",
       "    <tr>\n",
       "      <th>250</th>\n",
       "      <td>q36Level4</td>\n",
       "      <td>Which of the following is useful in traversing...</td>\n",
       "      <td>right answer: 2 or Queue</td>\n",
       "    </tr>\n",
       "  </tbody>\n",
       "</table>\n",
       "</div>"
      ],
      "text/plain": [
       "    Data Field                                    Survey Question  \\\n",
       "17    q7Level1  Success! You completed Level 1 of 4.  To unloc...   \n",
       "50   q15Level2  You completed Level 2 of 4! To unlock the next...   \n",
       "243  q31Level3  Woo hoo... you completed Level 3 of 4! To unlo...   \n",
       "250  q36Level4  Which of the following is useful in traversing...   \n",
       "\n",
       "                                                 Notes  \n",
       "17                                right answer: 1 or C  \n",
       "50   right answer: 1 or 'prints  \"Hello World!\" n t...  \n",
       "243                      right answer: 1 or num%2 == 0  \n",
       "250                           right answer: 2 or Queue  "
      ]
     },
     "execution_count": 6,
     "metadata": {},
     "output_type": "execute_result"
    }
   ],
   "source": [
    "codebook_db[codebook_db['Data Field'].isin(['q7Level1','q15Level2','q31Level3','q36Level4'])]"
   ]
  },
  {
   "cell_type": "code",
   "execution_count": 7,
   "metadata": {},
   "outputs": [
    {
     "name": "stdout",
     "output_type": "stream",
     "text": [
      "50.52910052910053\n"
     ]
    }
   ],
   "source": [
    "#slice by right answers\n",
    "res = russian_developers[(russian_developers['q7Level1'] == 1) &\n",
    "                         (russian_developers['q15Level2'] == 1) &\n",
    "                         (russian_developers['q31Level3'] == 1) &\n",
    "                         (russian_developers['q36Level4'] == 2)]\n",
    "\n",
    "#get count\n",
    "absolute_right_count = res.shape[0]\n",
    "\n",
    "#get percent\n",
    "absolute_right_p = absolute_right_count/russian_developers.shape[0]\n",
    "\n",
    "print(absolute_right_p*100)"
   ]
  }
 ],
 "metadata": {
  "kernelspec": {
   "display_name": "Python 3",
   "language": "python",
   "name": "python3"
  },
  "language_info": {
   "codemirror_mode": {
    "name": "ipython",
    "version": 3
   },
   "file_extension": ".py",
   "mimetype": "text/x-python",
   "name": "python",
   "nbconvert_exporter": "python",
   "pygments_lexer": "ipython3",
   "version": "3.6.4"
  }
 },
 "nbformat": 4,
 "nbformat_minor": 2
}
